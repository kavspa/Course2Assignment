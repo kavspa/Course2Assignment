{
 "cells": [
  {
   "attachments": {},
   "cell_type": "markdown",
   "id": "32001d90",
   "metadata": {},
   "source": [
    "# Data Scince Tools and Exosystem"
   ]
  },
  {
   "cell_type": "markdown",
   "id": "e81b6dfb",
   "metadata": {},
   "source": [
    "## Author\n",
    "Kava S."
   ]
  },
  {
   "cell_type": "markdown",
   "id": "3162f643",
   "metadata": {},
   "source": [
    "In this notebook, Data Science Tools and Exosystem are summarized."
   ]
  },
  {
   "cell_type": "markdown",
   "id": "895a667f",
   "metadata": {},
   "source": [
    "**Objectives:**\n",
    "\n",
    "- List popular languages for Data Science+\n",
    "- List commonly used libraries by Data Scientists\n",
    "- List Data Science Open-Source Tools"
   ]
  },
  {
   "cell_type": "markdown",
   "id": "d9dd2f5e",
   "metadata": {},
   "source": [
    "Some of the popular languages that Data Scientists use are \n",
    "\n",
    "1. Python\n",
    "2. R\n",
    "3. Java\n",
    "4. C++"
   ]
  },
  {
   "cell_type": "markdown",
   "id": "1a653faf",
   "metadata": {},
   "source": [
    "Some of the commonly used libraries used by Data Scientists include:\n",
    "\n",
    "1. Pandas\n",
    "2. NumPy\n",
    "3. Matplotib\n",
    "4. Seaborn\n",
    "5. TensorFlow"
   ]
  },
  {
   "cell_type": "markdown",
   "id": "f65c5754",
   "metadata": {},
   "source": [
    "| Data Science Tools |\n",
    "| --- |\n",
    "| Jupyter |\n",
    "| RStudio |\n",
    "| Apache Zeppelin |"
   ]
  },
  {
   "cell_type": "markdown",
   "id": "96488983",
   "metadata": {},
   "source": [
    "### Below are a few examples of evaluating arithmetuc expressions in Python."
   ]
  },
  {
   "cell_type": "code",
   "execution_count": 4,
   "id": "fbc4d080",
   "metadata": {},
   "outputs": [
    {
     "data": {
      "text/plain": [
       "17"
      ]
     },
     "execution_count": 4,
     "metadata": {},
     "output_type": "execute_result"
    }
   ],
   "source": [
    "# This is a simple arithmetic expression to multiply then add integers.\n",
    "(3*4)+5"
   ]
  },
  {
   "cell_type": "code",
   "execution_count": 5,
   "id": "ad21d4b4",
   "metadata": {},
   "outputs": [
    {
     "data": {
      "text/plain": [
       "3.3333333333333335"
      ]
     },
     "execution_count": 5,
     "metadata": {},
     "output_type": "execute_result"
    }
   ],
   "source": [
    "# This will convert 200 minutes to hours by dividing by 60.\n",
    "200/60"
   ]
  },
  {
   "cell_type": "code",
   "execution_count": null,
   "id": "ea80f1f7",
   "metadata": {},
   "outputs": [],
   "source": []
  }
 ],
 "metadata": {
  "kernelspec": {
   "display_name": "Python 3 (ipykernel)",
   "language": "python",
   "name": "python3"
  },
  "language_info": {
   "codemirror_mode": {
    "name": "ipython",
    "version": 3
   },
   "file_extension": ".py",
   "mimetype": "text/x-python",
   "name": "python",
   "nbconvert_exporter": "python",
   "pygments_lexer": "ipython3",
   "version": "3.10.9"
  }
 },
 "nbformat": 4,
 "nbformat_minor": 5
}
